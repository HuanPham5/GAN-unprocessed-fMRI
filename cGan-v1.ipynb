{
 "cells": [
  {
   "cell_type": "markdown",
   "metadata": {},
   "source": [
    "# cGAN version"
   ]
  },
  {
   "cell_type": "markdown",
   "metadata": {},
   "source": [
    "## our basic GAN doesn't use any of the labels\n",
    "\n",
    "## we need to conditioned both the generator and discriminator on class labels"
   ]
  },
  {
   "cell_type": "code",
   "execution_count": 20,
   "metadata": {},
   "outputs": [],
   "source": [
    "import nibabel as nib\n",
    "import matplotlib.pyplot as plt\n",
    "import matplotlib.image as mpimg\n",
    "import tensorflow as tf\n",
    "from tensorflow.keras.layers import Dense, Reshape, Flatten, Conv3D, Conv3DTranspose, LeakyReLU\n",
    "from tensorflow.keras.models import Sequential\n",
    "from tensorflow.keras.layers import Input, Embedding, multiply, Concatenate\n",
    "from tensorflow.keras.models import Model\n",
    "from tensorflow.keras.optimizers import Adam\n",
    "import numpy as np\n",
    "import glob\n",
    "import nibabel as nib\n",
    "import os\n",
    "import matplotlib.pyplot as plt\n",
    "import numpy as np\n",
    "import scipy.ndimage"
   ]
  },
  {
   "cell_type": "code",
   "execution_count": 2,
   "id": "1dc65d57",
   "metadata": {},
   "outputs": [
    {
     "name": "stdout",
     "output_type": "stream",
     "text": [
      "Number of GPUs available: 1\n",
      "GPU 0: PhysicalDevice(name='/physical_device:GPU:0', device_type='GPU')\n"
     ]
    }
   ],
   "source": [
    "# List all physical devices of type 'GPU'\n",
    "gpus = tf.config.experimental.list_physical_devices('GPU')\n",
    "\n",
    "if gpus:\n",
    "    print(f'Number of GPUs available: {len(gpus)}')\n",
    "    for i, gpu in enumerate(gpus):\n",
    "        print(f'GPU {i}: {gpu}')\n",
    "else:\n",
    "    print('No GPU detected.')"
   ]
  },
  {
   "cell_type": "markdown",
   "id": "f5a0df35",
   "metadata": {},
   "source": [
    "# Matching fMRI files with IDs from demographic csv"
   ]
  },
  {
   "cell_type": "code",
   "execution_count": 3,
   "id": "077ff26b",
   "metadata": {},
   "outputs": [
    {
     "data": {
      "text/plain": [
       "\"\\n    control_ids = [\\n    'A00007409', 'A00013140', 'A00021145', 'A00036049', 'A00022810', 'A00002198', 'A00020895', 'A00004667',\\n    'A00015826', 'A00023120', 'A00022837', 'A00010684', 'A00009946', 'A00037318', 'A00033214', 'A00022490',\\n    'A00023848', 'A00029452', 'A00037564', 'A00036555', 'A00023095', 'A00022729', 'A00024955', 'A00024160',\\n    'A00011725', 'A00027487', 'A00024446', 'A00014898', 'A00015759', 'A00028409', 'A00017294', 'A00014522',\\n    'A00012995', 'A00031764', 'A00025969', 'A00033147', 'A00018553', 'A00023143', 'A00036916', 'A00028052',\\n    'A00023337', 'A00023730', 'A00020805', 'A00020984', 'A00000300', 'A00010150', 'A00024932', 'A00035537',\\n    'A00022509', 'A00028406', 'A00004087', 'A00035751', 'A00023800', 'A00027787', 'A00022687', 'A00023866',\\n    'A00021085', 'A00022619', 'A00036897', 'A00019888', 'A00021058', 'A00022835', 'A00037495', 'A00026945',\\n    'A00018716', 'A00026907', 'A00023330', 'A00016199', 'A00037238', 'A00023131', 'A00014120', 'A00021072',\\n    'A00037665', 'A00022400', 'A00003150', 'A00024372', 'A00021081', 'A00022592', 'A00022653', 'A00013816',\\n    'A00014839', 'A00031478', 'A00014225', 'A00013363', 'A00037007', 'A00020968', 'A00024301', 'A00024820',\\n    'A00035469', 'A00029226', 'A00022915', 'A00022773', 'A00024663', 'A00036844', 'A00009207', 'A00024535',\\n    'A00022727', 'A00011265', 'A00024546'\\n] \""
      ]
     },
     "execution_count": 3,
     "metadata": {},
     "output_type": "execute_result"
    }
   ],
   "source": [
    "# Specify the directory and file pattern\n",
    "directory_path = '4D'\n",
    "file_pattern = 'A*_????_func_FL_FD_RPI_DSP_MCF_SS_SM_Nui_CS_InStandard.nii.gz'\n",
    "\n",
    "# Construct the full path pattern\n",
    "path_pattern = f'{directory_path}/{file_pattern}'\n",
    "\n",
    "# Use glob to find all matching files\n",
    "matching_files = glob.glob(path_pattern)\n",
    "\n",
    "# Define the list of schizophrenia IDs\n",
    "\n",
    "schizophrenia_ids = [\n",
    "    'A00009280', 'A00028806', 'A00023132', 'A00014804', 'A00016859']\n",
    "\n",
    "'''\n",
    "schizophrenia_ids = [\n",
    "    'A00009280', 'A00028806', 'A00023132', 'A00014804', 'A00016859', 'A00021598', 'A00001181', 'A00023158',\n",
    "    'A00024568', 'A00028405', 'A00001251', 'A00000456', 'A00015648', 'A00002405', 'A00027391', 'A00016720',\n",
    "    'A00018434', 'A00016197', 'A00027119', 'A00006754', 'A00009656', 'A00038441', 'A00012767', 'A00034273',\n",
    "    'A00028404', 'A00035485', 'A00024684', 'A00018979', 'A00027537', 'A00004507', 'A00001452', 'A00023246',\n",
    "    'A00027410', 'A00014719', 'A00024510', 'A00000368', 'A00019293', 'A00014830', 'A00015201', 'A00018403',\n",
    "    'A00037854', 'A00024198', 'A00001243', 'A00014590', 'A00002337', 'A00024953', 'A00037224', 'A00027616',\n",
    "    'A00001856', 'A00037619', 'A00024228', 'A00038624', 'A00037034', 'A00037649', 'A00022500', 'A00013216',\n",
    "    'A00020787', 'A00028410', 'A00002480', 'A00028303', 'A00020602', 'A00024959', 'A00018598', 'A00014636',\n",
    "    'A00019349', 'A00017147', 'A00023590', 'A00023750', 'A00031597', 'A00015518', 'A00018317', 'A00016723',\n",
    "    'A00021591', 'A00023243', 'A00017943', 'A00023366', 'A00014607', 'A00020414', 'A00035003', 'A00028805',\n",
    "    'A00029486', 'A00000541', 'A00028408', 'A00000909', 'A00031186', 'A00000838' ] '''\n",
    "\n",
    "\n",
    "# Define the list of IDs of individuals with non-schizophrenia - control only\n",
    "control_ids = [\n",
    "    'A00007409', 'A00013140', 'A00021145', 'A00036049', 'A00022810',]\n",
    "\n",
    "'''\n",
    "    control_ids = [\n",
    "    'A00007409', 'A00013140', 'A00021145', 'A00036049', 'A00022810', 'A00002198', 'A00020895', 'A00004667',\n",
    "    'A00015826', 'A00023120', 'A00022837', 'A00010684', 'A00009946', 'A00037318', 'A00033214', 'A00022490',\n",
    "    'A00023848', 'A00029452', 'A00037564', 'A00036555', 'A00023095', 'A00022729', 'A00024955', 'A00024160',\n",
    "    'A00011725', 'A00027487', 'A00024446', 'A00014898', 'A00015759', 'A00028409', 'A00017294', 'A00014522',\n",
    "    'A00012995', 'A00031764', 'A00025969', 'A00033147', 'A00018553', 'A00023143', 'A00036916', 'A00028052',\n",
    "    'A00023337', 'A00023730', 'A00020805', 'A00020984', 'A00000300', 'A00010150', 'A00024932', 'A00035537',\n",
    "    'A00022509', 'A00028406', 'A00004087', 'A00035751', 'A00023800', 'A00027787', 'A00022687', 'A00023866',\n",
    "    'A00021085', 'A00022619', 'A00036897', 'A00019888', 'A00021058', 'A00022835', 'A00037495', 'A00026945',\n",
    "    'A00018716', 'A00026907', 'A00023330', 'A00016199', 'A00037238', 'A00023131', 'A00014120', 'A00021072',\n",
    "    'A00037665', 'A00022400', 'A00003150', 'A00024372', 'A00021081', 'A00022592', 'A00022653', 'A00013816',\n",
    "    'A00014839', 'A00031478', 'A00014225', 'A00013363', 'A00037007', 'A00020968', 'A00024301', 'A00024820',\n",
    "    'A00035469', 'A00029226', 'A00022915', 'A00022773', 'A00024663', 'A00036844', 'A00009207', 'A00024535',\n",
    "    'A00022727', 'A00011265', 'A00024546'\n",
    "] '''\n",
    "\n"
   ]
  },
  {
   "cell_type": "code",
   "execution_count": 4,
   "metadata": {},
   "outputs": [
    {
     "name": "stdout",
     "output_type": "stream",
     "text": [
      "Total number of files successfully processed: 7\n",
      "Total number of schizophrenia files: 3\n",
      "Schizophrenia files: ['A00009280_0013_func_FL_FD_RPI_DSP_MCF_SS_SM_Nui_CS_InStandard.nii.gz', 'A00014804_0014_func_FL_FD_RPI_DSP_MCF_SS_SM_Nui_CS_InStandard.nii.gz', 'A00028806_0012_func_FL_FD_RPI_DSP_MCF_SS_SM_Nui_CS_InStandard.nii.gz']\n",
      "Total number of non-schizophrenia files: 4\n",
      "Non-Schizophrenia files: ['A00007409_0013_func_FL_FD_RPI_DSP_MCF_SS_SM_Nui_CS_InStandard.nii.gz', 'A00013140_0011_func_FL_FD_RPI_DSP_MCF_SS_SM_Nui_CS_InStandard.nii.gz', 'A00022810_0012_func_FL_FD_RPI_DSP_MCF_SS_SM_Nui_CS_InStandard.nii.gz', 'A00036049_0012_func_FL_FD_RPI_DSP_MCF_SS_SM_Nui_CS_InStandard.nii.gz']\n",
      "Total number of files with insufficient time dimension: 28\n",
      "Files with insufficient time dimension: ['A00000909_0011_func_FL_FD_RPI_DSP_MCF_SS_SM_Nui_CS_InStandard.nii.gz', 'A00001181_0013_func_FL_FD_RPI_DSP_MCF_SS_SM_Nui_CS_InStandard.nii.gz', 'A00001243_0013_func_FL_FD_RPI_DSP_MCF_SS_SM_Nui_CS_InStandard.nii.gz', 'A00002480_0014_func_FL_FD_RPI_DSP_MCF_SS_SM_Nui_CS_InStandard.nii.gz', 'A00010150_0013_func_FL_FD_RPI_DSP_MCF_SS_SM_Nui_CS_InStandard.nii.gz', 'A00013363_0013_func_FL_FD_RPI_DSP_MCF_SS_SM_Nui_CS_InStandard.nii.gz', 'A00014120_0011_func_FL_FD_RPI_DSP_MCF_SS_SM_Nui_CS_InStandard.nii.gz', 'A00014175_0010_func_FL_FD_RPI_DSP_MCF_SS_SM_Nui_CS_InStandard.nii.gz', 'A00014225_0011_func_FL_FD_RPI_DSP_MCF_SS_SM_Nui_CS_InStandard.nii.gz', 'A00014590_0015_func_FL_FD_RPI_DSP_MCF_SS_SM_Nui_CS_InStandard.nii.gz', 'A00014636_0015_func_FL_FD_RPI_DSP_MCF_SS_SM_Nui_CS_InStandard.nii.gz', 'A00015518_0014_func_FL_FD_RPI_DSP_MCF_SS_SM_Nui_CS_InStandard.nii.gz', 'A00017294_0011_func_FL_FD_RPI_DSP_MCF_SS_SM_Nui_CS_InStandard.nii.gz', 'A00019349_0011_func_FL_FD_RPI_DSP_MCF_SS_SM_Nui_CS_InStandard.nii.gz', 'A00023243_0015_func_FL_FD_RPI_DSP_MCF_SS_SM_Nui_CS_InStandard.nii.gz', 'A00026907_0013_func_FL_FD_RPI_DSP_MCF_SS_SM_Nui_CS_InStandard.nii.gz', 'A00027391_0012_func_FL_FD_RPI_DSP_MCF_SS_SM_Nui_CS_InStandard.nii.gz', 'A00027755_0015_func_FL_FD_RPI_DSP_MCF_SS_SM_Nui_CS_InStandard.nii.gz', 'A00028405_0012_func_FL_FD_RPI_DSP_MCF_SS_SM_Nui_CS_InStandard.nii.gz', 'A00029486_0012_func_FL_FD_RPI_DSP_MCF_SS_SM_Nui_CS_InStandard.nii.gz', 'A00031271_0012_func_FL_FD_RPI_DSP_MCF_SS_SM_Nui_CS_InStandard.nii.gz', 'A00033648_0012_func_FL_FD_RPI_DSP_MCF_SS_SM_Nui_CS_InStandard.nii.gz', 'A00033812_0012_func_FL_FD_RPI_DSP_MCF_SS_SM_Nui_CS_InStandard.nii.gz', 'A00033994_0012_func_FL_FD_RPI_DSP_MCF_SS_SM_Nui_CS_InStandard.nii.gz', 'A00035183_0012_func_FL_FD_RPI_DSP_MCF_SS_SM_Nui_CS_InStandard.nii.gz', 'A00036897_0012_func_FL_FD_RPI_DSP_MCF_SS_SM_Nui_CS_InStandard.nii.gz', 'A00036916_0012_func_FL_FD_RPI_DSP_MCF_SS_SM_Nui_CS_InStandard.nii.gz', 'A00037854_0012_func_FL_FD_RPI_DSP_MCF_SS_SM_Nui_CS_InStandard.nii.gz']\n",
      "IDs of files with insufficient time dimension: ['A00000909', 'A00001181', 'A00001243', 'A00002480', 'A00010150', 'A00013363', 'A00014120', 'A00014175', 'A00014225', 'A00014590', 'A00014636', 'A00015518', 'A00017294', 'A00019349', 'A00023243', 'A00026907', 'A00027391', 'A00027755', 'A00028405', 'A00029486', 'A00031271', 'A00033648', 'A00033812', 'A00033994', 'A00035183', 'A00036897', 'A00036916', 'A00037854']\n"
     ]
    }
   ],
   "source": [
    "# Initialize lists to store the processed image data, corresponding labels, and filenames\n",
    "image_data = []\n",
    "labels = []  # 1 for schizophrenia, 0 for non-schizophrenia\n",
    "schizophrenia_files = []\n",
    "non_schizophrenia_files = []\n",
    "\n",
    "# Lists for files with insufficient time dimensions\n",
    "insufficient_time_files = []\n",
    "insufficient_time_ids = []\n",
    "\n",
    "# Counters for each category\n",
    "schizophrenia_count = 0\n",
    "non_schizophrenia_count = 0\n",
    "processed_files_count = 0\n",
    "\n",
    "# Loop through the matching files\n",
    "for file_path in matching_files:\n",
    "    # Extract the filename\n",
    "    filename = os.path.basename(file_path)\n",
    "    \n",
    "    # Extract the ID from the filename\n",
    "    file_id = filename.split('_')[0]\n",
    "    \n",
    "    # Load the file\n",
    "    t1_img = nib.load(file_path)\n",
    "    t1_data = t1_img.get_fdata()\n",
    "\n",
    "    # Check if the time dimension is at least 90\n",
    "    if t1_data.shape[3] < 90:\n",
    "        insufficient_time_files.append(filename)\n",
    "        insufficient_time_ids.append(file_id)\n",
    "        continue  # Skip this file\n",
    "\n",
    "    # Determine the label based on the ID and increment counters\n",
    "    if file_id in schizophrenia_ids:\n",
    "        label = 1  # Schizophrenia\n",
    "        schizophrenia_count += 1\n",
    "        schizophrenia_files.append(filename)\n",
    "    elif file_id in control_ids:\n",
    "        label = 0  # Non-Schizophrenia\n",
    "        non_schizophrenia_count += 1\n",
    "        non_schizophrenia_files.append(filename)\n",
    "    else:\n",
    "        continue  # Skip files with IDs not in the provided lists\n",
    "    \n",
    "    # Collapse one of the axes by summing\n",
    "    t1_data_collapsed = np.sum(t1_data, axis=1)\n",
    "    \n",
    "    # Append the collapsed image data and label to the respective lists\n",
    "    image_data.append(t1_data_collapsed)\n",
    "    labels.append(label)\n",
    "\n",
    "    # Increment the counter\n",
    "    processed_files_count += 1\n",
    "\n",
    "# Print the total number of files processed for each category and their filenames\n",
    "print(f\"Total number of files successfully processed: {processed_files_count}\")\n",
    "print(f\"Total number of schizophrenia files: {schizophrenia_count}\")\n",
    "print(\"Schizophrenia files:\", schizophrenia_files)\n",
    "print(f\"Total number of non-schizophrenia files: {non_schizophrenia_count}\")\n",
    "print(\"Non-Schizophrenia files:\", non_schizophrenia_files)\n",
    "\n",
    "# Print files with insufficient time dimension\n",
    "print(f\"Total number of files with insufficient time dimension: {len(insufficient_time_files)}\")\n",
    "print(\"Files with insufficient time dimension:\", insufficient_time_files)\n",
    "print(\"IDs of files with insufficient time dimension:\", insufficient_time_ids)\n"
   ]
  },
  {
   "cell_type": "code",
   "execution_count": 5,
   "id": "a0e63949",
   "metadata": {},
   "outputs": [
    {
     "data": {
      "text/plain": [
       "143"
      ]
     },
     "execution_count": 5,
     "metadata": {},
     "output_type": "execute_result"
    }
   ],
   "source": [
    "# Determine the maximum z-dimension size\n",
    "max_z_size = max(img.shape[2] for img in image_data)\n",
    "max_z_size"
   ]
  },
  {
   "cell_type": "code",
   "execution_count": 6,
   "id": "98267a8f",
   "metadata": {},
   "outputs": [],
   "source": [
    "image_data_normalized = [(img - np.min(img)) / (np.max(img) - np.min(img)) * 2 - 1 for img in image_data]"
   ]
  },
  {
   "cell_type": "code",
   "execution_count": 7,
   "id": "679d20c3",
   "metadata": {},
   "outputs": [
    {
     "data": {
      "text/plain": [
       "array([[[-0.05646606, -0.05646606, -0.05646606, ..., -0.05646606,\n",
       "         -0.05646606, -0.05646606],\n",
       "        [-0.05646606, -0.05646606, -0.05646606, ..., -0.05646606,\n",
       "         -0.05646606, -0.05646606],\n",
       "        [-0.05646606, -0.05646606, -0.05646606, ..., -0.05646606,\n",
       "         -0.05646606, -0.05646606],\n",
       "        ...,\n",
       "        [-0.05646606, -0.05646606, -0.05646606, ..., -0.05646606,\n",
       "         -0.05646606, -0.05646606],\n",
       "        [-0.05646606, -0.05646606, -0.05646606, ..., -0.05646606,\n",
       "         -0.05646606, -0.05646606],\n",
       "        [-0.05646606, -0.05646606, -0.05646606, ..., -0.05646606,\n",
       "         -0.05646606, -0.05646606]],\n",
       "\n",
       "       [[-0.05646606, -0.05646606, -0.05646606, ..., -0.05646606,\n",
       "         -0.05646606, -0.05646606],\n",
       "        [-0.05646606, -0.05646606, -0.05646606, ..., -0.05646606,\n",
       "         -0.05646606, -0.05646606],\n",
       "        [-0.05646606, -0.05646606, -0.05646606, ..., -0.05646606,\n",
       "         -0.05646606, -0.05646606],\n",
       "        ...,\n",
       "        [-0.05646606, -0.05646606, -0.05646606, ..., -0.05646606,\n",
       "         -0.05646606, -0.05646606],\n",
       "        [-0.05646606, -0.05646606, -0.05646606, ..., -0.05646606,\n",
       "         -0.05646606, -0.05646606],\n",
       "        [-0.05646606, -0.05646606, -0.05646606, ..., -0.05646606,\n",
       "         -0.05646606, -0.05646606]],\n",
       "\n",
       "       [[-0.05646606, -0.05646606, -0.05646606, ..., -0.05646606,\n",
       "         -0.05646606, -0.05646606],\n",
       "        [-0.05646606, -0.05646606, -0.05646606, ..., -0.05646606,\n",
       "         -0.05646606, -0.05646606],\n",
       "        [-0.05646606, -0.05646606, -0.05646606, ..., -0.05646606,\n",
       "         -0.05646606, -0.05646606],\n",
       "        ...,\n",
       "        [-0.05646606, -0.05646606, -0.05646606, ..., -0.05646606,\n",
       "         -0.05646606, -0.05646606],\n",
       "        [-0.05646606, -0.05646606, -0.05646606, ..., -0.05646606,\n",
       "         -0.05646606, -0.05646606],\n",
       "        [-0.05646606, -0.05646606, -0.05646606, ..., -0.05646606,\n",
       "         -0.05646606, -0.05646606]],\n",
       "\n",
       "       ...,\n",
       "\n",
       "       [[-0.05646606, -0.05646606, -0.05646606, ..., -0.05646606,\n",
       "         -0.05646606, -0.05646606],\n",
       "        [-0.05646606, -0.05646606, -0.05646606, ..., -0.05646606,\n",
       "         -0.05646606, -0.05646606],\n",
       "        [-0.05646606, -0.05646606, -0.05646606, ..., -0.05646606,\n",
       "         -0.05646606, -0.05646606],\n",
       "        ...,\n",
       "        [-0.05646606, -0.05646606, -0.05646606, ..., -0.05646606,\n",
       "         -0.05646606, -0.05646606],\n",
       "        [-0.05646606, -0.05646606, -0.05646606, ..., -0.05646606,\n",
       "         -0.05646606, -0.05646606],\n",
       "        [-0.05646606, -0.05646606, -0.05646606, ..., -0.05646606,\n",
       "         -0.05646606, -0.05646606]],\n",
       "\n",
       "       [[-0.05646606, -0.05646606, -0.05646606, ..., -0.05646606,\n",
       "         -0.05646606, -0.05646606],\n",
       "        [-0.05646606, -0.05646606, -0.05646606, ..., -0.05646606,\n",
       "         -0.05646606, -0.05646606],\n",
       "        [-0.05646606, -0.05646606, -0.05646606, ..., -0.05646606,\n",
       "         -0.05646606, -0.05646606],\n",
       "        ...,\n",
       "        [-0.05646606, -0.05646606, -0.05646606, ..., -0.05646606,\n",
       "         -0.05646606, -0.05646606],\n",
       "        [-0.05646606, -0.05646606, -0.05646606, ..., -0.05646606,\n",
       "         -0.05646606, -0.05646606],\n",
       "        [-0.05646606, -0.05646606, -0.05646606, ..., -0.05646606,\n",
       "         -0.05646606, -0.05646606]],\n",
       "\n",
       "       [[-0.05646606, -0.05646606, -0.05646606, ..., -0.05646606,\n",
       "         -0.05646606, -0.05646606],\n",
       "        [-0.05646606, -0.05646606, -0.05646606, ..., -0.05646606,\n",
       "         -0.05646606, -0.05646606],\n",
       "        [-0.05646606, -0.05646606, -0.05646606, ..., -0.05646606,\n",
       "         -0.05646606, -0.05646606],\n",
       "        ...,\n",
       "        [-0.05646606, -0.05646606, -0.05646606, ..., -0.05646606,\n",
       "         -0.05646606, -0.05646606],\n",
       "        [-0.05646606, -0.05646606, -0.05646606, ..., -0.05646606,\n",
       "         -0.05646606, -0.05646606],\n",
       "        [-0.05646606, -0.05646606, -0.05646606, ..., -0.05646606,\n",
       "         -0.05646606, -0.05646606]]])"
      ]
     },
     "execution_count": 7,
     "metadata": {},
     "output_type": "execute_result"
    }
   ],
   "source": [
    "image_data_normalized[0]"
   ]
  },
  {
   "cell_type": "code",
   "execution_count": 8,
   "id": "7939a80a",
   "metadata": {},
   "outputs": [],
   "source": [
    "# Pad each image to have a consistent z-dimension size\n",
    "padded_data = [np.pad(img, ((0, 0), (0, 0), (0, max_z_size - img.shape[2])), mode='constant') for img in image_data_normalized]\n",
    "\n",
    "# Now convert the padded data list to a numpy array\n",
    "padded_data_array = np.array(padded_data)"
   ]
  },
  {
   "cell_type": "code",
   "execution_count": 9,
   "id": "596fee9d",
   "metadata": {},
   "outputs": [
    {
     "name": "stdout",
     "output_type": "stream",
     "text": [
      "7\n"
     ]
    }
   ],
   "source": [
    "print(len(labels))"
   ]
  },
  {
   "cell_type": "code",
   "execution_count": 10,
   "id": "9bf3cdf1",
   "metadata": {},
   "outputs": [],
   "source": [
    "train_images = padded_data_array\n",
    "# Define batch size\n",
    "batch_size = 32\n",
    "\n",
    "\n",
    "train_dataset = tf.data.Dataset.from_tensor_slices((train_images, labels)).shuffle(len(train_images)).batch(batch_size)"
   ]
  },
  {
   "cell_type": "code",
   "execution_count": 11,
   "metadata": {},
   "outputs": [],
   "source": [
    "def build_cgan_generator(z_dim, num_classes):\n",
    "    # Noise input\n",
    "    z_input = Input(shape=(z_dim,))\n",
    "    # Label input\n",
    "    label_input = Input(shape=(1,), dtype='int32')\n",
    "\n",
    "    # Embedding for the label\n",
    "    #  Embedding funciton transforms integer labels into a dense vector of length z_dim.\n",
    "    # the embedding layer creates a dense representation where each label is mapped to a vector in a continuous space\n",
    "    # maybe we should try one-hot encoding?\n",
    "    label_embedding = Embedding(num_classes, z_dim, input_length=1)(label_input)\n",
    "    label_embedding = Flatten()(label_embedding)\n",
    "\n",
    "    # Merge noise and label\n",
    "    joined_representation = multiply([z_input, label_embedding])\n",
    "\n",
    "    # Generator network using joined representation\n",
    "    model = Sequential()\n",
    "    \n",
    "     # Start with a Dense layer to an initial shape that's smaller than the final target\n",
    "    model.add(Dense(128 * 7 * 7 * 9, input_dim=z_dim))  # Adjust to match an initial volume\n",
    "    model.add(LeakyReLU(alpha=0.01))\n",
    "    model.add(Reshape((7, 7, 9, 128)))  # This is the initial volume\n",
    "    \n",
    "    # Begin upsampling to the desired size\n",
    "    model.add(Conv3DTranspose(64, kernel_size=3, strides=2, padding='same'))\n",
    "    model.add(LeakyReLU(alpha=0.01))\n",
    "    \n",
    "    # Continue upsampling\n",
    "    model.add(Conv3DTranspose(32, kernel_size=3, strides=(3, 3, 2), padding='same'))\n",
    "    model.add(LeakyReLU(alpha=0.01))\n",
    "    \n",
    "    # Final upsampling step to reach just under the target size\n",
    "    # You may need to adjust the strides or padding to get the exact output size desired\n",
    "    model.add(Conv3DTranspose(1, kernel_size=3, strides=(2, 2, 2), padding='same', activation='tanh'))\n",
    "\n",
    "\n",
    "\n",
    "    # Use the model's call method to get the output tensor\n",
    "    output = model(joined_representation)\n",
    "\n",
    "    return Model([z_input, label_input], output)\n"
   ]
  },
  {
   "cell_type": "code",
   "execution_count": 12,
   "metadata": {},
   "outputs": [],
   "source": [
    "def build_cgan_discriminator(img_shape, num_classes):\n",
    "    # Image input\n",
    "    img_input = Input(shape=img_shape)\n",
    "\n",
    "    # Label input\n",
    "    label_input = Input(shape=(1,), dtype='int32')\n",
    "\n",
    "    # Embedding for the label\n",
    "    label_embedding = Embedding(num_classes, np.prod(img_shape[:-1]), input_length=1)(label_input)\n",
    "    label_embedding = Flatten()(label_embedding)\n",
    "    label_embedding = Reshape(img_shape[:-1] + (1,))(label_embedding)  # Reshape to match image dimensions\n",
    "\n",
    "  \n",
    "    # Merge image and label\n",
    "    concatenated = Concatenate(axis=-1)([img_input, label_embedding])\n",
    "\n",
    "    # Discriminator network using concatenated input\n",
    "    model = Sequential()\n",
    " \n",
    "    model.add(Conv3D(64, kernel_size=3, strides=2, padding='same', input_shape=(img_shape[0], img_shape[1], img_shape[2], img_shape[3] + 1)))  # Adjust to 2 channels\n",
    "    model.add(LeakyReLU(alpha=0.01))\n",
    "    \n",
    "    # More layers with downsampling\n",
    "    model.add(Conv3D(128, kernel_size=3, strides=2, padding='same'))\n",
    "    model.add(LeakyReLU(alpha=0.01))\n",
    "    \n",
    "    # Flatten and add Dense layers for classification\n",
    "    model.add(Flatten())\n",
    "    model.add(Dense(128))\n",
    "    model.add(LeakyReLU(alpha=0.01))\n",
    "    model.add(Dense(1, activation='sigmoid'))\n",
    "    # Use the model's call method to get the output tensor\n",
    "    output = model(concatenated)\n",
    "\n",
    "    return Model([img_input, label_input], output)\n"
   ]
  },
  {
   "cell_type": "code",
   "execution_count": 21,
   "metadata": {},
   "outputs": [],
   "source": [
    "# this follows from the generator architecture\n",
    "img_shape = (84,84,72,1)\n",
    "\n",
    "#  Define the dimensions of the noise vector and number of classes\n",
    "z_dim = 100\n",
    "num_classes = 2\n",
    "\n",
    "# Define the optimizer with the specified learning rate and momentum\n",
    "adam_optimizer = Adam(learning_rate=0.0002, beta_1=0.5)\n",
    "\n",
    "# Build the generator and discriminator\n",
    "generator = build_cgan_generator(z_dim, num_classes)\n",
    "discriminator = build_cgan_discriminator(img_shape, num_classes)\n",
    "\n",
    "# Compile the discriminator\n",
    "discriminator.compile(loss='binary_crossentropy', optimizer=adam_optimizer, metrics=['accuracy'])\n",
    "\n",
    "# For the combined model we will only train the generator\n",
    "discriminator.trainable = False\n",
    "\n",
    "# cGAN model\n",
    "z_input = Input(shape=(z_dim,))\n",
    "label_input = Input(shape=(1,))\n",
    "generated_image = generator([z_input, label_input])\n",
    "validity = discriminator([generated_image, label_input])\n",
    "\n",
    "# The combined model (stacked generator and discriminator)\n",
    "cgan_model = Model([z_input, label_input], validity)\n",
    "cgan_model.compile(loss='binary_crossentropy', optimizer=adam_optimizer)\n"
   ]
  },
  {
   "cell_type": "code",
   "execution_count": 22,
   "id": "3e1b65f9",
   "metadata": {},
   "outputs": [],
   "source": [
    "def resize_image(image, new_shape):\n",
    "    factors = (\n",
    "        new_shape[0]/image.shape[0],\n",
    "        new_shape[1]/image.shape[1],\n",
    "        new_shape[2]/image.shape[2]\n",
    "    )\n",
    "    return scipy.ndimage.zoom(image, factors, order=1)  # order=1 is bilinear interpolation\n"
   ]
  },
  {
   "cell_type": "code",
   "execution_count": 23,
   "metadata": {},
   "outputs": [],
   "source": [
    "def train_cgan(gan, dataset, z_dim, epochs, num_classes):\n",
    "    #generator, discriminator = gan.layers\n",
    "    d_losses = []\n",
    "    g_losses = []\n",
    "\n",
    "      # Directory for saving checkpoints\n",
    "    checkpoint_dir = \"cgan_checkpoints\"\n",
    "    if not os.path.exists(checkpoint_dir):\n",
    "        os.makedirs(checkpoint_dir)\n",
    "\n",
    "    for epoch in range(epochs):\n",
    "        epoch_d_loss = 0.0\n",
    "        epoch_g_loss = 0.0\n",
    "        num_batches = 0\n",
    "        \n",
    "        for real_imgs, labels in dataset:\n",
    "            num_batches += 1\n",
    "            batch_size = real_imgs.shape[0]\n",
    "\n",
    "\n",
    "             # Resize the real images to match the dimensions expected by the discriminator\n",
    "            real_imgs_resized = np.array([resize_image(img, (84, 84, 72)) for img in real_imgs])\n",
    "\n",
    "            # Generate random noise and a batch of labels for fake images\n",
    "            z = np.random.normal(0, 1, (batch_size, z_dim))\n",
    "            random_labels = np.random.randint(0, num_classes, batch_size).reshape(-1, 1)\n",
    "\n",
    "            # Generate a batch of fake images using the random noise and labels\n",
    "            fake_imgs = generator.predict([z, random_labels])\n",
    "\n",
    "            # Labels for real and fake images\n",
    "            real_labels = np.ones((batch_size, 1))\n",
    "            fake_labels = np.zeros((batch_size, 1))\n",
    "\n",
    "            # Train the discriminator\n",
    "            d_loss_real = discriminator.train_on_batch([real_imgs_resized, labels], real_labels)\n",
    "            d_loss_fake = discriminator.train_on_batch([fake_imgs, random_labels], fake_labels)\n",
    "            d_loss = 0.5 * np.add(d_loss_real, d_loss_fake)\n",
    "            epoch_d_loss += d_loss[0]\n",
    "\n",
    "            # Mislabel the fake images as real for generator training\n",
    "            z = np.random.normal(0, 1, (batch_size, z_dim))\n",
    "            random_labels = np.random.randint(0, num_classes, batch_size).reshape(-1, 1)\n",
    "            misleading_labels = np.ones((batch_size, 1))\n",
    "\n",
    "            # Train the generator (through the combined model)\n",
    "            g_loss = gan.train_on_batch([z, random_labels], misleading_labels)\n",
    "            epoch_g_loss += g_loss\n",
    "\n",
    "            # Optionally, print the losses for each batch\n",
    "            print(f'Epoch: {epoch}, Batch: {num_batches}, D Loss: {d_loss[0]}, G Loss: {g_loss}')\n",
    "\n",
    "\n",
    "        # Checkpointing every n epochs\n",
    "        if (epoch + 1) % 2 == 0:\n",
    "            generator.save_weights(os.path.join(checkpoint_dir, f\"generator_epoch_{epoch+1}.h5\"))\n",
    "            discriminator.save_weights(os.path.join(checkpoint_dir, f\"discriminator_epoch_{epoch+1}.h5\"))\n",
    "            print(f\"Checkpoint: Saved model weights at epoch {epoch+1}\")\n",
    "            \n",
    "        # Record the average losses for this epoch\n",
    "        d_losses.append(epoch_d_loss / num_batches)\n",
    "        g_losses.append(epoch_g_loss / num_batches)\n",
    "\n",
    "    return d_losses, g_losses\n"
   ]
  },
  {
   "cell_type": "code",
   "execution_count": 24,
   "metadata": {},
   "outputs": [],
   "source": [
    "def plot_losses(d_losses, g_losses):\n",
    "    plt.figure(figsize=(10, 5))\n",
    "    plt.plot(d_losses, label='Discriminator Loss')\n",
    "    plt.plot(g_losses, label='Generator Loss')\n",
    "    plt.title('Loss over Epochs')\n",
    "    plt.xlabel('Epoch')\n",
    "    plt.ylabel('Loss')\n",
    "    plt.legend()\n",
    "    plt.show()\n"
   ]
  },
  {
   "cell_type": "code",
   "execution_count": 25,
   "metadata": {},
   "outputs": [
    {
     "name": "stdout",
     "output_type": "stream",
     "text": [
      "1/1 [==============================] - 0s 83ms/step\n",
      "Epoch: 0, Batch: 1, D Loss: 1.041176289319992, G Loss: 0.5331854224205017\n",
      "1/1 [==============================] - 0s 15ms/step\n",
      "Epoch: 1, Batch: 1, D Loss: 0.4357974324375391, G Loss: 0.680171549320221\n",
      "Checkpoint: Saved model weights at epoch 2\n",
      "1/1 [==============================] - 0s 16ms/step\n",
      "Epoch: 2, Batch: 1, D Loss: 0.38605090603232384, G Loss: 0.6949500441551208\n",
      "1/1 [==============================] - 0s 15ms/step\n",
      "Epoch: 3, Batch: 1, D Loss: 0.3555691549554467, G Loss: 0.7845475077629089\n",
      "Checkpoint: Saved model weights at epoch 4\n",
      "1/1 [==============================] - 0s 17ms/step\n",
      "Epoch: 4, Batch: 1, D Loss: 0.2836084009613842, G Loss: 1.114147424697876\n",
      "1/1 [==============================] - 0s 16ms/step\n",
      "Epoch: 5, Batch: 1, D Loss: 0.1580008422024548, G Loss: 2.798711061477661\n",
      "Checkpoint: Saved model weights at epoch 6\n",
      "1/1 [==============================] - 0s 19ms/step\n",
      "Epoch: 6, Batch: 1, D Loss: 0.362565815448761, G Loss: 2.3196957111358643\n",
      "1/1 [==============================] - 0s 19ms/step\n",
      "Epoch: 7, Batch: 1, D Loss: 0.028534961980767548, G Loss: 3.775866985321045\n",
      "Checkpoint: Saved model weights at epoch 8\n",
      "1/1 [==============================] - 0s 15ms/step\n",
      "Epoch: 8, Batch: 1, D Loss: 0.5614488571882248, G Loss: 1.0825916528701782\n",
      "1/1 [==============================] - 0s 16ms/step\n",
      "Epoch: 9, Batch: 1, D Loss: 0.1806562691964946, G Loss: 1.9746417999267578\n",
      "Checkpoint: Saved model weights at epoch 10\n"
     ]
    }
   ],
   "source": [
    "# Assuming train_dataset is structured to yield both images and labels\n",
    "# and that the number of classes (e.g., schizophrenia and non-schizophrenia) is known\n",
    "num_classes = 2  # Update this as per your dataset\n",
    "\n",
    "d_losses, g_losses = train_cgan(cgan_model, train_dataset, z_dim=100, epochs=10, num_classes=num_classes)"
   ]
  },
  {
   "cell_type": "code",
   "execution_count": 18,
   "metadata": {},
   "outputs": [
    {
     "name": "stdout",
     "output_type": "stream",
     "text": [
      "1/1 [==============================] - 0s 86ms/step\n"
     ]
    },
    {
     "data": {
      "image/png": "[encoded data removed]",
      "text/plain": [
       "<Figure size 1000x500 with 2 Axes>"
      ]
     },
     "metadata": {},
     "output_type": "display_data"
    }
   ],
   "source": [
    "# Specify the label you want to condition on\n",
    "# (e.g., 0 for non-schizophrenia, 1 for schizophrenia)\n",
    "condition_label = np.array([[0]])\n",
    "\n",
    "# Generate a single fake image\n",
    "z = np.random.normal(0, 1, (1, z_dim))\n",
    "generated_image = generator.predict([z, condition_label])[0]  # [0] to get the single image from the batch\n",
    "\n",
    "# Get a single real image and its label\n",
    "real_images, labels = next(iter(train_dataset))\n",
    "\n",
    "# Create a mask for images with the desired label\n",
    "mask = (labels.numpy().flatten() == condition_label[0, 0])\n",
    "\n",
    "# Apply the mask to the real_images to filter out those with the matching label\n",
    "filtered_real_images = real_images[mask]\n",
    "\n",
    "# Check if there are any images that match the condition label\n",
    "if len(filtered_real_images) > 0:\n",
    "    real_image = filtered_real_images[0]  # Take the first image that matches\n",
    "    real_label = condition_label[0, 0]\n",
    "else:\n",
    "    raise ValueError(\"No real images found with the specified condition label\")\n",
    "\n",
    "# Plot the real and fake images side by side\n",
    "plt.figure(figsize=(10, 5))\n",
    "\n",
    "# Plot real image\n",
    "plt.subplot(1, 2, 1)\n",
    "plt.imshow(real_image[:, :, 10])  # adjust indexing based on your image data format\n",
    "plt.title(f'Real Image (Label: {real_label})')\n",
    "plt.axis('off')\n",
    "\n",
    "# Plot fake image\n",
    "plt.subplot(1, 2, 2)\n",
    "plt.imshow(generated_image[:, :, 10])  # adjust indexing based on your image data format\n",
    "plt.title('Generated Image')\n",
    "plt.axis('off')\n",
    "\n",
    "plt.tight_layout()\n",
    "plt.show()\n",
    "\n"
   ]
  },
  {
   "cell_type": "code",
   "execution_count": 19,
   "id": "863005fe",
   "metadata": {},
   "outputs": [
    {
     "name": "stdout",
     "output_type": "stream",
     "text": [
      "WARNING:tensorflow:Compiled the loaded model, but the compiled metrics have yet to be built. `model.compile_metrics` will be empty until you train or evaluate the model.\n"
     ]
    }
   ],
   "source": [
    "# Save the generator, discriminator, and the entire GAN\n",
    "generator.save('cgan_generator_model_v1.h5')\n",
    "discriminator.save('cgan_discriminator_model_v1.h5')\n",
    "cgan_model.save('cgan_model_v1.h5')\n"
   ]
  },
  {
   "cell_type": "code",
   "execution_count": null,
   "id": "69b815ad",
   "metadata": {},
   "outputs": [],
   "source": []
  },
  {
   "cell_type": "code",
   "execution_count": null,
   "id": "1d96a4ef",
   "metadata": {},
   "outputs": [],
   "source": []
  }
 ],
 "metadata": {
  "kernelspec": {
   "display_name": "Python 3 (ipykernel)",
   "language": "python",
   "name": "python3"
  },
  "language_info": {
   "codemirror_mode": {
    "name": "ipython",
    "version": 3
   },
   "file_extension": ".py",
   "mimetype": "text/x-python",
   "name": "python",
   "nbconvert_exporter": "python",
   "pygments_lexer": "ipython3",
   "version": "3.10.9"
  }
 },
 "nbformat": 4,
 "nbformat_minor": 5
}
